{
 "cells": [
  {
   "cell_type": "code",
   "execution_count": 2,
   "id": "ac3a1d65-3a2a-4df1-b021-026bd2268964",
   "metadata": {},
   "outputs": [
    {
     "name": "stdout",
     "output_type": "stream",
     "text": [
      "      Name  Age  Gender Occupation    Salary       Location\n",
      "0    Alice   28  Female   Engineer   80000.0       New York\n",
      "1      Bob   35    Male     Doctor  120000.0    Los Angeles\n",
      "2  Charlie   22    Male    Student       NaN         Boston\n",
      "3    David   40    Male    Manager  100000.0        Chicago\n",
      "4      Eva   30  Female    Teacher   60000.0  San Francisco\n",
      "5    Frank   25    Male     Artist   50000.0        Seattle\n",
      "6    Grace   32  Female  Scientist   90000.0         Austin\n"
     ]
    }
   ],
   "source": [
    "import os\n",
    "import pandas as pd\n",
    "os.chdir(\"D:\\\\program\\\\PYTHON\\\\CSV\")\n",
    "x=pd.read_csv(\"csv2.csv\")\n",
    "print(x)"
   ]
  },
  {
   "cell_type": "code",
   "execution_count": 4,
   "id": "87a00ea9-ee8e-488b-89fd-d9ce36b076f0",
   "metadata": {},
   "outputs": [
    {
     "name": "stdout",
     "output_type": "stream",
     "text": [
      "   Age    Salary\n",
      "0   28   80000.0\n",
      "1   35  120000.0\n",
      "2   22       NaN\n",
      "3   40  100000.0\n",
      "4   30   60000.0\n",
      "5   25   50000.0\n",
      "6   32   90000.0\n"
     ]
    }
   ],
   "source": [
    "data=x.select_dtypes(exclude=[\"object\"])#correlation can be done to only numeric dtypes\n",
    "print(data)"
   ]
  },
  {
   "cell_type": "code",
   "execution_count": 13,
   "id": "b8335c99-86d3-4af6-8d93-5a5759d00a5c",
   "metadata": {},
   "outputs": [
    {
     "name": "stdout",
     "output_type": "stream",
     "text": [
      "             Age    Salary\n",
      "Age     1.000000  0.781885\n",
      "Salary  0.781885  1.000000\n"
     ]
    }
   ],
   "source": [
    "#SYNTAX for CORRELATION: data_frame.corr(self,method=\"pearson\")\n",
    "\n",
    "corr_matr=data.corr()\n",
    "print(corr_matr)"
   ]
  },
  {
   "cell_type": "code",
   "execution_count": null,
   "id": "6514f78e-931f-442d-ae26-7865d5e8f436",
   "metadata": {},
   "outputs": [],
   "source": []
  }
 ],
 "metadata": {
  "kernelspec": {
   "display_name": "Python 3 (ipykernel)",
   "language": "python",
   "name": "python3"
  },
  "language_info": {
   "codemirror_mode": {
    "name": "ipython",
    "version": 3
   },
   "file_extension": ".py",
   "mimetype": "text/x-python",
   "name": "python",
   "nbconvert_exporter": "python",
   "pygments_lexer": "ipython3",
   "version": "3.12.2"
  }
 },
 "nbformat": 4,
 "nbformat_minor": 5
}
