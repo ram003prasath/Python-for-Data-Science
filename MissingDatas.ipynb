{
 "cells": [
  {
   "cell_type": "code",
   "execution_count": 1,
   "id": "1173c227-6041-4157-b376-3c9fae968df7",
   "metadata": {},
   "outputs": [
    {
     "name": "stdout",
     "output_type": "stream",
     "text": [
      "      Name   Age   Salary  Country  Gender Department\n",
      "0    Alice  25.0  50000.0      USA  Female         HR\n",
      "1      Bob   NaN  60000.0   Canada    Male         IT\n",
      "2  Charlie  30.0      NaN      USA    Male    Finance\n",
      "3    David  22.0  45000.0      NaN    Male         IT\n",
      "4      Eva   NaN      NaN  Germany  Female         HR\n",
      "5    Frank  35.0      NaN   Canada    Male         IT\n",
      "6    Grace  28.0  55000.0      USA  Female    Finance\n",
      "7     Hank   NaN      NaN  Germany    Male         IT\n",
      "8      Ivy  31.0      NaN  Germany  Female    Finance\n",
      "9     Jack  40.0  80000.0      USA    Male         HR\n"
     ]
    }
   ],
   "source": [
    "import os\n",
    "import pandas as pd\n",
    "os.chdir(\"D:\\\\program\\\\PYTHON\\\\CSV\")\n",
    "data=pd.read_csv(\"csv3.csv\")\n",
    "print(data)"
   ]
  },
  {
   "cell_type": "code",
   "execution_count": 2,
   "id": "35364166-68af-4f8f-b783-2eff39a0cf48",
   "metadata": {},
   "outputs": [
    {
     "name": "stdout",
     "output_type": "stream",
     "text": [
      "      Name   Age   Salary  Country  Gender Department\n",
      "0    Alice  25.0  50000.0      USA  Female         HR\n",
      "1      Bob   NaN  60000.0   Canada    Male         IT\n",
      "2  Charlie  30.0      NaN      USA    Male    Finance\n",
      "3    David  22.0  45000.0      NaN    Male         IT\n",
      "4      Eva   NaN      NaN  Germany  Female         HR\n",
      "5    Frank  35.0      NaN   Canada    Male         IT\n",
      "6    Grace  28.0  55000.0      USA  Female    Finance\n",
      "7     Hank   NaN      NaN  Germany    Male         IT\n",
      "8      Ivy  31.0      NaN  Germany  Female    Finance\n",
      "9     Jack  40.0  80000.0      USA    Male         HR \n",
      "\n",
      "       Name   Age   Salary  Country  Gender Department\n",
      "0    Alice  25.0  50000.0      USA  Female         HR\n",
      "1      Bob   NaN  60000.0   Canada    Male         IT\n",
      "2  Charlie  30.0      NaN      USA    Male    Finance\n",
      "3    David  22.0  45000.0      NaN    Male         IT\n",
      "4      Eva   NaN      NaN  Germany  Female         HR\n",
      "5    Frank  35.0      NaN   Canada    Male         IT\n",
      "6    Grace  28.0  55000.0      USA  Female    Finance\n",
      "7     Hank   NaN      NaN  Germany    Male         IT\n",
      "8      Ivy  31.0      NaN  Germany  Female    Finance\n",
      "9     Jack  40.0  80000.0      USA    Male         HR\n"
     ]
    }
   ],
   "source": [
    "data2=data.copy()\n",
    "data3=data.copy()\n",
    "print(data2,\"\\n\\n\",data3)"
   ]
  },
  {
   "cell_type": "code",
   "execution_count": 3,
   "id": "c29d003f-365c-44e4-92b0-3f26d4644da7",
   "metadata": {},
   "outputs": [
    {
     "name": "stdout",
     "output_type": "stream",
     "text": [
      "    Name    Age  Salary  Country  Gender  Department\n",
      "0  False  False   False    False   False       False\n",
      "1  False   True   False    False   False       False\n",
      "2  False  False    True    False   False       False\n",
      "3  False  False   False     True   False       False\n",
      "4  False   True    True    False   False       False\n",
      "5  False  False    True    False   False       False\n",
      "6  False  False   False    False   False       False\n",
      "7  False   True    True    False   False       False\n",
      "8  False  False    True    False   False       False\n",
      "9  False  False   False    False   False       False\n"
     ]
    }
   ],
   "source": [
    "print(data.isnull())"
   ]
  },
  {
   "cell_type": "code",
   "execution_count": 4,
   "id": "d6dfd04f-9881-4ba0-bacf-f7954dc68812",
   "metadata": {},
   "outputs": [
    {
     "name": "stdout",
     "output_type": "stream",
     "text": [
      "    Name    Age  Salary  Country  Gender  Department\n",
      "0  False  False   False    False   False       False\n",
      "1  False   True   False    False   False       False\n",
      "2  False  False    True    False   False       False\n",
      "3  False  False   False     True   False       False\n",
      "4  False   True    True    False   False       False\n",
      "5  False  False    True    False   False       False\n",
      "6  False  False   False    False   False       False\n",
      "7  False   True    True    False   False       False\n",
      "8  False  False    True    False   False       False\n",
      "9  False  False   False    False   False       False\n"
     ]
    }
   ],
   "source": [
    "print(data.isna())"
   ]
  },
  {
   "cell_type": "code",
   "execution_count": 8,
   "id": "7a892c7c-80c3-498e-b911-818d0da0849f",
   "metadata": {},
   "outputs": [
    {
     "name": "stdout",
     "output_type": "stream",
     "text": [
      "Name          0\n",
      "Age           3\n",
      "Salary        5\n",
      "Country       1\n",
      "Gender        0\n",
      "Department    0\n",
      "dtype: int64\n"
     ]
    }
   ],
   "source": [
    "missing_values = data.isna().sum()#or use data.isnull().sum()\n",
    "print(missing_values)"
   ]
  },
  {
   "cell_type": "code",
   "execution_count": 9,
   "id": "f54a30da-22f8-4aba-99c6-685b0454d419",
   "metadata": {},
   "outputs": [
    {
     "name": "stdout",
     "output_type": "stream",
     "text": [
      "      Name   Age   Salary  Country  Gender Department\n",
      "1      Bob   NaN  60000.0   Canada    Male         IT\n",
      "2  Charlie  30.0      NaN      USA    Male    Finance\n",
      "3    David  22.0  45000.0      NaN    Male         IT\n",
      "4      Eva   NaN      NaN  Germany  Female         HR\n",
      "5    Frank  35.0      NaN   Canada    Male         IT\n",
      "7     Hank   NaN      NaN  Germany    Male         IT\n",
      "8      Ivy  31.0      NaN  Germany  Female    Finance\n"
     ]
    }
   ],
   "source": [
    "missing=data2[data2.isnull().any(axis=1)]#axis=1 represents column\n",
    "print(missing) #rows which has atlest one missing column values are listed"
   ]
  },
  {
   "cell_type": "code",
   "execution_count": 10,
   "id": "e3f68599-e673-4d7e-ba8a-2e4c32ceb2c4",
   "metadata": {},
   "outputs": [
    {
     "data": {
      "text/html": [
       "<div>\n",
       "<style scoped>\n",
       "    .dataframe tbody tr th:only-of-type {\n",
       "        vertical-align: middle;\n",
       "    }\n",
       "\n",
       "    .dataframe tbody tr th {\n",
       "        vertical-align: top;\n",
       "    }\n",
       "\n",
       "    .dataframe thead th {\n",
       "        text-align: right;\n",
       "    }\n",
       "</style>\n",
       "<table border=\"1\" class=\"dataframe\">\n",
       "  <thead>\n",
       "    <tr style=\"text-align: right;\">\n",
       "      <th></th>\n",
       "      <th>Age</th>\n",
       "      <th>Salary</th>\n",
       "    </tr>\n",
       "  </thead>\n",
       "  <tbody>\n",
       "    <tr>\n",
       "      <th>count</th>\n",
       "      <td>4.000000</td>\n",
       "      <td>2.000000</td>\n",
       "    </tr>\n",
       "    <tr>\n",
       "      <th>mean</th>\n",
       "      <td>29.500000</td>\n",
       "      <td>52500.000000</td>\n",
       "    </tr>\n",
       "    <tr>\n",
       "      <th>std</th>\n",
       "      <td>5.446712</td>\n",
       "      <td>10606.601718</td>\n",
       "    </tr>\n",
       "    <tr>\n",
       "      <th>min</th>\n",
       "      <td>22.000000</td>\n",
       "      <td>45000.000000</td>\n",
       "    </tr>\n",
       "    <tr>\n",
       "      <th>25%</th>\n",
       "      <td>28.000000</td>\n",
       "      <td>48750.000000</td>\n",
       "    </tr>\n",
       "    <tr>\n",
       "      <th>50%</th>\n",
       "      <td>30.500000</td>\n",
       "      <td>52500.000000</td>\n",
       "    </tr>\n",
       "    <tr>\n",
       "      <th>75%</th>\n",
       "      <td>32.000000</td>\n",
       "      <td>56250.000000</td>\n",
       "    </tr>\n",
       "    <tr>\n",
       "      <th>max</th>\n",
       "      <td>35.000000</td>\n",
       "      <td>60000.000000</td>\n",
       "    </tr>\n",
       "  </tbody>\n",
       "</table>\n",
       "</div>"
      ],
      "text/plain": [
       "             Age        Salary\n",
       "count   4.000000      2.000000\n",
       "mean   29.500000  52500.000000\n",
       "std     5.446712  10606.601718\n",
       "min    22.000000  45000.000000\n",
       "25%    28.000000  48750.000000\n",
       "50%    30.500000  52500.000000\n",
       "75%    32.000000  56250.000000\n",
       "max    35.000000  60000.000000"
      ]
     },
     "execution_count": 10,
     "metadata": {},
     "output_type": "execute_result"
    }
   ],
   "source": [
    "missing.describe()"
   ]
  },
  {
   "cell_type": "code",
   "execution_count": 11,
   "id": "e9b5575b-b8fd-478e-ae79-03655eecbe93",
   "metadata": {},
   "outputs": [
    {
     "data": {
      "text/plain": [
       "30.142857142857142"
      ]
     },
     "execution_count": 11,
     "metadata": {},
     "output_type": "execute_result"
    }
   ],
   "source": [
    "#Since there is no much difference between mean and median we put mean value in place of NaN\n",
    "\n",
    "data2[\"Age\"].mean()"
   ]
  },
  {
   "cell_type": "code",
   "execution_count": 13,
   "id": "2c9aed41-a2c1-43ab-8447-589df01a9951",
   "metadata": {},
   "outputs": [
    {
     "name": "stdout",
     "output_type": "stream",
     "text": [
      "      Name        Age   Salary  Country  Gender Department\n",
      "0    Alice  25.000000  50000.0      USA  Female         HR\n",
      "1      Bob  30.142857  60000.0   Canada    Male         IT\n",
      "2  Charlie  30.000000      NaN      USA    Male    Finance\n",
      "3    David  22.000000  45000.0      NaN    Male         IT\n",
      "4      Eva  30.142857      NaN  Germany  Female         HR\n",
      "5    Frank  35.000000      NaN   Canada    Male         IT\n",
      "6    Grace  28.000000  55000.0      USA  Female    Finance\n",
      "7     Hank  30.142857      NaN  Germany    Male         IT\n",
      "8      Ivy  31.000000      NaN  Germany  Female    Finance\n",
      "9     Jack  40.000000  80000.0      USA    Male         HR\n"
     ]
    },
    {
     "name": "stderr",
     "output_type": "stream",
     "text": [
      "C:\\Users\\raamp\\AppData\\Local\\Temp\\ipykernel_11644\\3720776202.py:1: FutureWarning: A value is trying to be set on a copy of a DataFrame or Series through chained assignment using an inplace method.\n",
      "The behavior will change in pandas 3.0. This inplace method will never work because the intermediate object on which we are setting values always behaves as a copy.\n",
      "\n",
      "For example, when doing 'df[col].method(value, inplace=True)', try using 'df.method({col: value}, inplace=True)' or df[col] = df[col].method(value) instead, to perform the operation inplace on the original object.\n",
      "\n",
      "\n",
      "  data2[\"Age\"].fillna(data2[\"Age\"].mean(),inplace=True)\n"
     ]
    }
   ],
   "source": [
    "data2[\"Age\"].fillna(data2[\"Age\"].mean(),inplace=True)\n",
    "print(data2)"
   ]
  },
  {
   "cell_type": "code",
   "execution_count": 15,
   "id": "f6751ad0-9e08-4bfe-9a71-cef024d0b205",
   "metadata": {},
   "outputs": [
    {
     "name": "stdout",
     "output_type": "stream",
     "text": [
      "      Name        Age   Salary  Country  Gender Department\n",
      "0    Alice  25.000000  50000.0      USA  Female         HR\n",
      "1      Bob  30.142857  60000.0   Canada    Male         IT\n",
      "2  Charlie  30.000000  58000.0      USA    Male    Finance\n",
      "3    David  22.000000  45000.0      NaN    Male         IT\n",
      "4      Eva  30.142857  58000.0  Germany  Female         HR\n",
      "5    Frank  35.000000  58000.0   Canada    Male         IT\n",
      "6    Grace  28.000000  55000.0      USA  Female    Finance\n",
      "7     Hank  30.142857  58000.0  Germany    Male         IT\n",
      "8      Ivy  31.000000  58000.0  Germany  Female    Finance\n",
      "9     Jack  40.000000  80000.0      USA    Male         HR\n"
     ]
    },
    {
     "name": "stderr",
     "output_type": "stream",
     "text": [
      "C:\\Users\\raamp\\AppData\\Local\\Temp\\ipykernel_11644\\342178737.py:1: FutureWarning: A value is trying to be set on a copy of a DataFrame or Series through chained assignment using an inplace method.\n",
      "The behavior will change in pandas 3.0. This inplace method will never work because the intermediate object on which we are setting values always behaves as a copy.\n",
      "\n",
      "For example, when doing 'df[col].method(value, inplace=True)', try using 'df.method({col: value}, inplace=True)' or df[col] = df[col].method(value) instead, to perform the operation inplace on the original object.\n",
      "\n",
      "\n",
      "  data2[\"Salary\"].fillna(data2[\"Salary\"].mean(),inplace=True)\n"
     ]
    }
   ],
   "source": [
    "data2[\"Salary\"].fillna(data2[\"Salary\"].mean(),inplace=True)\n",
    "print(data2)"
   ]
  },
  {
   "cell_type": "code",
   "execution_count": 16,
   "id": "5245a713-8da7-43cf-b345-085c813cd874",
   "metadata": {},
   "outputs": [
    {
     "name": "stdout",
     "output_type": "stream",
     "text": [
      "      Name   Age   Salary  Country  Gender Department\n",
      "0    Alice  25.0  50000.0      USA  Female         HR\n",
      "1      Bob   NaN  60000.0   Canada    Male         IT\n",
      "2  Charlie  30.0      NaN      USA    Male    Finance\n",
      "3    David  22.0  45000.0      NaN    Male         IT\n",
      "4      Eva   NaN      NaN  Germany  Female         HR\n",
      "5    Frank  35.0      NaN   Canada    Male         IT\n",
      "6    Grace  28.0  55000.0      USA  Female    Finance\n",
      "7     Hank   NaN      NaN  Germany    Male         IT\n",
      "8      Ivy  31.0      NaN  Germany  Female    Finance\n",
      "9     Jack  40.0  80000.0      USA    Male         HR\n"
     ]
    }
   ],
   "source": [
    "print(data)"
   ]
  },
  {
   "cell_type": "code",
   "execution_count": 18,
   "id": "c51a3d99-bd66-4a62-a33c-d15428780c15",
   "metadata": {},
   "outputs": [
    {
     "data": {
      "text/plain": [
       "Country\n",
       "USA        4\n",
       "Germany    3\n",
       "Canada     2\n",
       "Name: count, dtype: int64"
      ]
     },
     "execution_count": 18,
     "metadata": {},
     "output_type": "execute_result"
    }
   ],
   "source": [
    "#replace NaN with dtype as non numeric by value occured most frequently\n",
    "\n",
    "data2[\"Country\"].value_counts()"
   ]
  },
  {
   "cell_type": "code",
   "execution_count": 20,
   "id": "d2fcc4f0-7f60-4b0f-b21a-5a65a9d29052",
   "metadata": {},
   "outputs": [
    {
     "data": {
      "text/plain": [
       "'USA'"
      ]
     },
     "execution_count": 20,
     "metadata": {},
     "output_type": "execute_result"
    }
   ],
   "source": [
    "data2[\"Country\"].value_counts().index[0]"
   ]
  },
  {
   "cell_type": "code",
   "execution_count": 23,
   "id": "a99db7de-0ad0-4742-9e87-c137ee296c31",
   "metadata": {},
   "outputs": [
    {
     "name": "stdout",
     "output_type": "stream",
     "text": [
      "      Name        Age   Salary  Country  Gender Department\n",
      "0    Alice  25.000000  50000.0      USA  Female         HR\n",
      "1      Bob  30.142857  60000.0   Canada    Male         IT\n",
      "2  Charlie  30.000000  58000.0      USA    Male    Finance\n",
      "3    David  22.000000  45000.0      USA    Male         IT\n",
      "4      Eva  30.142857  58000.0  Germany  Female         HR\n",
      "5    Frank  35.000000  58000.0   Canada    Male         IT\n",
      "6    Grace  28.000000  55000.0      USA  Female    Finance\n",
      "7     Hank  30.142857  58000.0  Germany    Male         IT\n",
      "8      Ivy  31.000000  58000.0  Germany  Female    Finance\n",
      "9     Jack  40.000000  80000.0      USA    Male         HR\n"
     ]
    }
   ],
   "source": [
    "#now replace NaN with USA\n",
    "\n",
    "data2[\"Country\"] = data2[\"Country\"].fillna(data2[\"Country\"].value_counts().index[0])\n",
    "print(data2)"
   ]
  },
  {
   "cell_type": "code",
   "execution_count": 25,
   "id": "dde36386-0bc0-45c6-ac5d-06310e10027f",
   "metadata": {},
   "outputs": [
    {
     "data": {
      "text/plain": [
       "Name          0\n",
       "Age           0\n",
       "Salary        0\n",
       "Country       0\n",
       "Gender        0\n",
       "Department    0\n",
       "dtype: int64"
      ]
     },
     "execution_count": 25,
     "metadata": {},
     "output_type": "execute_result"
    }
   ],
   "source": [
    "data2.isnull().sum()"
   ]
  },
  {
   "cell_type": "code",
   "execution_count": 26,
   "id": "9877bd7d-c70e-41b2-93ad-71041cfd7c6a",
   "metadata": {},
   "outputs": [
    {
     "name": "stdout",
     "output_type": "stream",
     "text": [
      "      Name   Age   Salary  Country  Gender Department\n",
      "0    Alice  25.0  50000.0      USA  Female         HR\n",
      "1      Bob   NaN  60000.0   Canada    Male         IT\n",
      "2  Charlie  30.0      NaN      USA    Male    Finance\n",
      "3    David  22.0  45000.0      NaN    Male         IT\n",
      "4      Eva   NaN      NaN  Germany  Female         HR\n",
      "5    Frank  35.0      NaN   Canada    Male         IT\n",
      "6    Grace  28.0  55000.0      USA  Female    Finance\n",
      "7     Hank   NaN      NaN  Germany    Male         IT\n",
      "8      Ivy  31.0      NaN  Germany  Female    Finance\n",
      "9     Jack  40.0  80000.0      USA    Male         HR\n"
     ]
    }
   ],
   "source": [
    "print(data3)"
   ]
  },
  {
   "cell_type": "code",
   "execution_count": 28,
   "id": "c5685b1b-e787-4946-8c8e-e3fe403e00a6",
   "metadata": {},
   "outputs": [
    {
     "name": "stdout",
     "output_type": "stream",
     "text": [
      "      Name        Age   Salary  Country  Gender Department\n",
      "0    Alice  25.000000  50000.0      USA  Female         HR\n",
      "1      Bob  30.142857  60000.0   Canada    Male         IT\n",
      "2  Charlie  30.000000  58000.0      USA    Male    Finance\n",
      "3    David  22.000000  45000.0      USA    Male         IT\n",
      "4      Eva  30.142857  58000.0  Germany  Female         HR\n",
      "5    Frank  35.000000  58000.0   Canada    Male         IT\n",
      "6    Grace  28.000000  55000.0      USA  Female    Finance\n",
      "7     Hank  30.142857  58000.0  Germany    Male         IT\n",
      "8      Ivy  31.000000  58000.0  Germany  Female    Finance\n",
      "9     Jack  40.000000  80000.0      USA    Male         HR\n"
     ]
    }
   ],
   "source": [
    "#Filling all the values in a single line\n",
    "\n",
    "data3=data3.apply(lambda x:x.fillna(x.mean()) if x.dtype==\"float\" else x.fillna(x.value_counts().index[0]))\n",
    "print(data3)"
   ]
  },
  {
   "cell_type": "code",
   "execution_count": 29,
   "id": "0e419172-fe1c-4445-b829-d5bfd4b3cf72",
   "metadata": {},
   "outputs": [
    {
     "data": {
      "text/plain": [
       "Name          0\n",
       "Age           0\n",
       "Salary        0\n",
       "Country       0\n",
       "Gender        0\n",
       "Department    0\n",
       "dtype: int64"
      ]
     },
     "execution_count": 29,
     "metadata": {},
     "output_type": "execute_result"
    }
   ],
   "source": [
    "data3.isnull().sum()"
   ]
  },
  {
   "cell_type": "code",
   "execution_count": null,
   "id": "8eb2db7b-3232-4de1-a8a6-d9794c591970",
   "metadata": {},
   "outputs": [],
   "source": []
  }
 ],
 "metadata": {
  "kernelspec": {
   "display_name": "Python 3 (ipykernel)",
   "language": "python",
   "name": "python3"
  },
  "language_info": {
   "codemirror_mode": {
    "name": "ipython",
    "version": 3
   },
   "file_extension": ".py",
   "mimetype": "text/x-python",
   "name": "python",
   "nbconvert_exporter": "python",
   "pygments_lexer": "ipython3",
   "version": "3.12.2"
  }
 },
 "nbformat": 4,
 "nbformat_minor": 5
}
