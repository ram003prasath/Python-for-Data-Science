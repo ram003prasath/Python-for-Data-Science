{
 "cells": [
  {
   "cell_type": "code",
   "execution_count": 7,
   "id": "e61e1c14-f706-4b5c-bf6c-9c4caed3561c",
   "metadata": {},
   "outputs": [
    {
     "name": "stdout",
     "output_type": "stream",
     "text": [
      "   Rollno   Name  Age\n",
      "0      20    ram   ??\n",
      "1      18   ajay  NaN\n",
      "2      19  shiva   ##\n",
      "\n",
      " <class 'pandas.core.frame.DataFrame'>\n"
     ]
    }
   ],
   "source": [
    "import os\n",
    "import pandas as pd\n",
    "os.chdir(\"D:\\\\program\\\\PYTHON\\\\CSV\")\n",
    "data=pd.read_csv(\"sampleCsvFile.csv\")\n",
    "print(data)\n",
    "print(\"\\n\",type(data))"
   ]
  },
  {
   "cell_type": "code",
   "execution_count": 2,
   "id": "67ed6983-82ea-4fa5-a044-9c834491e6f9",
   "metadata": {},
   "outputs": [
    {
     "name": "stdout",
     "output_type": "stream",
     "text": [
      "         Name  Age\n",
      "Rollno            \n",
      "20        ram   20\n",
      "18       ajay   20\n",
      "19      shiva   20\n"
     ]
    }
   ],
   "source": [
    "print(pd.read_csv(\"sampleCsvFile.csv\",index_col=0))"
   ]
  },
  {
   "cell_type": "code",
   "execution_count": 3,
   "id": "519f9505-27d2-425d-a35e-b8cdd71ead85",
   "metadata": {},
   "outputs": [
    {
     "name": "stdout",
     "output_type": "stream",
     "text": [
      "       Rollno  Age\n",
      "Name              \n",
      "ram        20   20\n",
      "ajay       18   20\n",
      "shiva      19   20\n"
     ]
    }
   ],
   "source": [
    "print(pd.read_csv(\"sampleCsvFile.csv\",index_col=1))"
   ]
  },
  {
   "cell_type": "code",
   "execution_count": 6,
   "id": "8038d185-b3ea-42d6-9dad-a0d71a66365e",
   "metadata": {},
   "outputs": [
    {
     "name": "stdout",
     "output_type": "stream",
     "text": [
      "         Name  Age\n",
      "Rollno            \n",
      "20        ram   ??\n",
      "18       ajay  NaN\n",
      "19      shiva   ##\n"
     ]
    }
   ],
   "source": [
    "print(pd.read_csv(\"sampleCsvFile.csv\",index_col=0))"
   ]
  },
  {
   "cell_type": "code",
   "execution_count": 8,
   "id": "aed5a366-f460-43d5-b2b3-8e3839f9ecb2",
   "metadata": {},
   "outputs": [
    {
     "name": "stdout",
     "output_type": "stream",
     "text": [
      "         Name  Age\n",
      "Rollno            \n",
      "20        ram  NaN\n",
      "18       ajay  NaN\n",
      "19      shiva   ##\n"
     ]
    }
   ],
   "source": [
    "print(pd.read_csv(\"sampleCsvFile.csv\",index_col=0,na_values=[\"??\"]))"
   ]
  },
  {
   "cell_type": "code",
   "execution_count": 8,
   "id": "16a54f4d-9664-4282-bb3b-81ab9f0ec365",
   "metadata": {},
   "outputs": [
    {
     "name": "stdout",
     "output_type": "stream",
     "text": [
      "         Name   Age\n",
      "Rollno             \n",
      "20.0      NaN  20.0\n",
      "NaN      ajay  20.0\n",
      "19.0    shiva   NaN\n"
     ]
    }
   ],
   "source": [
    "import os\n",
    "import pandas as pd\n",
    "os.chdir(\"D:\\\\program\\\\PYTHON\\\\CSV\")\n",
    "print(pd.read_csv(\"sampleCsvFile.csv\",index_col=0,na_values=[\"??\",\"##\"]))"
   ]
  },
  {
   "cell_type": "code",
   "execution_count": 31,
   "id": "7478668a-c574-4bbd-8ab8-973e0770830d",
   "metadata": {},
   "outputs": [
    {
     "name": "stdout",
     "output_type": "stream",
     "text": [
      "Empty DataFrame\n",
      "Columns: [Hello, world, everyone, Unnamed: 3]\n",
      "Index: []\n",
      "<class 'pandas.core.frame.DataFrame'>\n"
     ]
    }
   ],
   "source": [
    "import os\n",
    "import pandas as pd\n",
    "os.chdir(\"D:\\\\program\\\\PYTHON\\\\TXT\")\n",
    "data=pd.read_table(\"Helloworld.txt\",delimiter=\" \")\n",
    "print(data)\n",
    "print(type(data))"
   ]
  },
  {
   "cell_type": "code",
   "execution_count": 1,
   "id": "2dfd9630-e6ab-4674-8e9e-ae3009c9c0cd",
   "metadata": {},
   "outputs": [
    {
     "name": "stdout",
     "output_type": "stream",
     "text": [
      "   Rollno   Name Age\n",
      "0    20.0    NaN  20\n",
      "1     NaN   ajay  20\n",
      "2    19.0  shiva  ##\n"
     ]
    }
   ],
   "source": [
    "import os\n",
    "import pandas as pd\n",
    "os.chdir(\"D:\\\\program\\\\PYTHON\\\\CSV\")\n",
    "data=pd.read_csv(\"sampleCsvFile.csv\")\n",
    "print(data)\n"
   ]
  },
  {
   "cell_type": "code",
   "execution_count": 2,
   "id": "0ec25f77-a7b6-4e5f-84fe-b6a88eb06fda",
   "metadata": {},
   "outputs": [
    {
     "name": "stdout",
     "output_type": "stream",
     "text": [
      "RangeIndex(start=0, stop=3, step=1)\n"
     ]
    }
   ],
   "source": [
    "print(data.index)"
   ]
  },
  {
   "cell_type": "code",
   "execution_count": 3,
   "id": "e38bc1b3-98ff-4b12-bdaa-30cb074a8683",
   "metadata": {},
   "outputs": [
    {
     "name": "stdout",
     "output_type": "stream",
     "text": [
      "Index(['Rollno', 'Name', 'Age'], dtype='object')\n"
     ]
    }
   ],
   "source": [
    "print(data.columns)"
   ]
  },
  {
   "cell_type": "code",
   "execution_count": 5,
   "id": "502a3d5b-bf4e-47ef-991f-e47aee20f526",
   "metadata": {},
   "outputs": [
    {
     "name": "stdout",
     "output_type": "stream",
     "text": [
      "9\n"
     ]
    }
   ],
   "source": [
    "print(data.size)"
   ]
  },
  {
   "cell_type": "code",
   "execution_count": 6,
   "id": "88197bde-2a91-4439-b314-c759ad7306ae",
   "metadata": {},
   "outputs": [
    {
     "name": "stdout",
     "output_type": "stream",
     "text": [
      "(3, 3)\n"
     ]
    }
   ],
   "source": [
    "print(data.shape)"
   ]
  },
  {
   "cell_type": "code",
   "execution_count": 7,
   "id": "42bb86a9-d079-47f4-b15f-42f5e04aab92",
   "metadata": {},
   "outputs": [
    {
     "name": "stdout",
     "output_type": "stream",
     "text": [
      "Index     132\n",
      "Rollno     24\n",
      "Name       24\n",
      "Age        24\n",
      "dtype: int64\n"
     ]
    }
   ],
   "source": [
    "print(data.memory_usage())"
   ]
  },
  {
   "cell_type": "code",
   "execution_count": 8,
   "id": "1d8b6cc2-7b3f-4cee-8e6a-00e85e429a4f",
   "metadata": {},
   "outputs": [
    {
     "name": "stdout",
     "output_type": "stream",
     "text": [
      "2\n"
     ]
    }
   ],
   "source": [
    "print(data.ndim)"
   ]
  },
  {
   "cell_type": "code",
   "execution_count": 10,
   "id": "5622cb27-08f0-4c78-9032-64dd5d2bd799",
   "metadata": {},
   "outputs": [
    {
     "name": "stdout",
     "output_type": "stream",
     "text": [
      "   Rollno  Name Age\n",
      "0    20.0   NaN  20\n",
      "1     NaN  ajay  20\n"
     ]
    }
   ],
   "source": [
    "print(data.head(2))#prints no.of mentioned rows"
   ]
  },
  {
   "cell_type": "code",
   "execution_count": 12,
   "id": "a4c0026d-75cc-4998-896f-916d3dae6652",
   "metadata": {},
   "outputs": [
    {
     "name": "stdout",
     "output_type": "stream",
     "text": [
      "   Rollno   Name Age\n",
      "1     NaN   ajay  20\n",
      "2    19.0  shiva  ##\n"
     ]
    }
   ],
   "source": [
    "print(data.tail(2))#prints no.of last rows as mentioned"
   ]
  },
  {
   "cell_type": "code",
   "execution_count": 15,
   "id": "d048ae01-d5d7-48dd-88bd-64cbee58ae2f",
   "metadata": {},
   "outputs": [
    {
     "name": "stdout",
     "output_type": "stream",
     "text": [
      "shiva\n"
     ]
    }
   ],
   "source": [
    "print(data.at[2,\"Name\"])#prints the value in 2nd row name column"
   ]
  },
  {
   "cell_type": "code",
   "execution_count": 18,
   "id": "94a6c27c-92c2-413a-8a6c-2064622ab6f4",
   "metadata": {},
   "outputs": [
    {
     "name": "stdout",
     "output_type": "stream",
     "text": [
      "shiva\n"
     ]
    }
   ],
   "source": [
    "print(data.iat[2,1])#similar to at but uses only index"
   ]
  },
  {
   "cell_type": "code",
   "execution_count": 23,
   "id": "8ce0f22b-d7bf-46c0-b099-7739235ef7e1",
   "metadata": {},
   "outputs": [
    {
     "name": "stdout",
     "output_type": "stream",
     "text": [
      "Rollno     19.0\n",
      "Name      shiva\n",
      "Age          ##\n",
      "Name: 2, dtype: object\n"
     ]
    }
   ],
   "source": [
    "print(data.loc[2])#used to access required row"
   ]
  },
  {
   "cell_type": "code",
   "execution_count": 27,
   "id": "71af5eaf-b371-48b6-85b5-4579089bbb2a",
   "metadata": {},
   "outputs": [
    {
     "name": "stdout",
     "output_type": "stream",
     "text": [
      "0      NaN\n",
      "1     ajay\n",
      "2    shiva\n",
      "Name: Name, dtype: object\n"
     ]
    }
   ],
   "source": [
    "print(data.loc[:,\"Name\"])# : represents all rows"
   ]
  },
  {
   "cell_type": "code",
   "execution_count": 28,
   "id": "2f9d86fc-2155-4826-81bb-a1a2200d3bd7",
   "metadata": {},
   "outputs": [
    {
     "name": "stdout",
     "output_type": "stream",
     "text": [
      "ajay\n"
     ]
    }
   ],
   "source": [
    "print(data.loc[1,\"Name\"])"
   ]
  },
  {
   "cell_type": "code",
   "execution_count": 29,
   "id": "008c3e58-cec2-488d-bfec-2b561a15f5db",
   "metadata": {},
   "outputs": [
    {
     "name": "stdout",
     "output_type": "stream",
     "text": [
      "ajay\n"
     ]
    }
   ],
   "source": [
    "print(data.at[1,\"Name\"])"
   ]
  },
  {
   "cell_type": "code",
   "execution_count": 15,
   "id": "78f1eba7-26a7-4b64-8af1-25317e2563c7",
   "metadata": {},
   "outputs": [
    {
     "name": "stdout",
     "output_type": "stream",
     "text": [
      "Rollno     int64\n",
      "Name      object\n",
      "Age       object\n",
      "dtype: object\n"
     ]
    }
   ],
   "source": [
    "import os\n",
    "import pandas as pd\n",
    "os.chdir(\"D:\\\\program\\\\PYTHON\\\\CSV\")\n",
    "data=pd.read_csv(\"sampleCsvFile.csv\")\n",
    "print(data.dtypes)#prints data type of each column"
   ]
  },
  {
   "cell_type": "code",
   "execution_count": 13,
   "id": "abd00930-d5bf-4f5f-b0c3-a6dfa15ba260",
   "metadata": {},
   "outputs": [
    {
     "name": "stdout",
     "output_type": "stream",
     "text": [
      "   Rollno   Name Age\n",
      "0      20    NaN  20\n",
      "1      18   ajay  20\n",
      "2      19  shiva  ##\n"
     ]
    }
   ],
   "source": [
    "print(data)"
   ]
  },
  {
   "cell_type": "code",
   "execution_count": 27,
   "id": "50da32bd-b57a-44b2-a81e-37de72347c83",
   "metadata": {},
   "outputs": [
    {
     "name": "stdout",
     "output_type": "stream",
     "text": [
      "object    2\n",
      "int64     1\n",
      "Name: count, dtype: int64\n"
     ]
    }
   ],
   "source": [
    "print(data.dtypes.value_counts())"
   ]
  },
  {
   "cell_type": "code",
   "execution_count": 29,
   "id": "527d19b4-80c7-49b9-beee-65fb9283d83b",
   "metadata": {},
   "outputs": [
    {
     "name": "stdout",
     "output_type": "stream",
     "text": [
      "   Rollno\n",
      "0      20\n",
      "1      18\n",
      "2      19\n"
     ]
    }
   ],
   "source": [
    "#To select datas based on the data types\n",
    "#Syntax: <data_frame>.select_dtypes(include=[<data_types>],exclude=[<data_types>])\n",
    "print(data.select_dtypes(exclude=[object]))"
   ]
  },
  {
   "cell_type": "code",
   "execution_count": 30,
   "id": "cd581c50-6bf3-4213-a8fc-74bf111303c6",
   "metadata": {},
   "outputs": [
    {
     "name": "stdout",
     "output_type": "stream",
     "text": [
      "    Name Age\n",
      "0    NaN  20\n",
      "1   ajay  20\n",
      "2  shiva  ##\n"
     ]
    }
   ],
   "source": [
    "print(data.select_dtypes(include=[object]))"
   ]
  },
  {
   "cell_type": "code",
   "execution_count": 33,
   "id": "5cdc89ba-af07-4fef-8231-682d0b9bb860",
   "metadata": {},
   "outputs": [
    {
     "name": "stdout",
     "output_type": "stream",
     "text": [
      "    Name Age\n",
      "0    NaN  20\n",
      "1   ajay  20\n",
      "2  shiva  ##\n"
     ]
    }
   ],
   "source": [
    "print(data.select_dtypes(include=[object],exclude=[int]))"
   ]
  },
  {
   "cell_type": "code",
   "execution_count": 34,
   "id": "30962c9f-0040-4093-80f5-a666a0769c6b",
   "metadata": {},
   "outputs": [
    {
     "name": "stdout",
     "output_type": "stream",
     "text": [
      "<class 'pandas.core.frame.DataFrame'>\n",
      "RangeIndex: 3 entries, 0 to 2\n",
      "Data columns (total 3 columns):\n",
      " #   Column  Non-Null Count  Dtype \n",
      "---  ------  --------------  ----- \n",
      " 0   Rollno  3 non-null      int64 \n",
      " 1   Name    2 non-null      object\n",
      " 2   Age     3 non-null      object\n",
      "dtypes: int64(1), object(2)\n",
      "memory usage: 204.0+ bytes\n",
      "None\n"
     ]
    }
   ],
   "source": [
    "#info() is used to return concise summary of a dataframe\n",
    "print(data.info())"
   ]
  },
  {
   "cell_type": "code",
   "execution_count": 36,
   "id": "9ecea9e4-d520-4bc6-ada5-50b7aefc66b5",
   "metadata": {},
   "outputs": [
    {
     "name": "stdout",
     "output_type": "stream",
     "text": [
      "[18 19 20]\n"
     ]
    }
   ],
   "source": [
    "#unique() is used to find the unique elements of a column\n",
    "#Syntax: numpy.unique(array)\n",
    "import numpy as np\n",
    "print(np.unique(data[\"Rollno\"]))"
   ]
  },
  {
   "cell_type": "code",
   "execution_count": 50,
   "id": "0889c8c3-cf41-459d-91b4-3034d8417d73",
   "metadata": {},
   "outputs": [
    {
     "name": "stdout",
     "output_type": "stream",
     "text": [
      "   Rollno   Name   Age\n",
      "0      20    NaN  20.0\n",
      "1      18   ajay  20.0\n",
      "2      19  shiva   NaN\n"
     ]
    }
   ],
   "source": [
    "import os\n",
    "import pandas as pd\n",
    "os.chdir(\"D:\\\\program\\\\PYTHON\\\\CSV\")\n",
    "data=pd.read_csv(\"sampleCsvFile.csv\",na_values=[\"##\"])\n",
    "print(data)"
   ]
  },
  {
   "cell_type": "code",
   "execution_count": 51,
   "id": "6797fb7e-bec9-4792-a9a4-af78e48212ce",
   "metadata": {},
   "outputs": [
    {
     "name": "stdout",
     "output_type": "stream",
     "text": [
      "Rollno      int64\n",
      "Name       object\n",
      "Age       float64\n",
      "dtype: object\n"
     ]
    }
   ],
   "source": [
    "print(data.dtypes)"
   ]
  },
  {
   "cell_type": "code",
   "execution_count": 62,
   "id": "297801c6-1b2e-4c92-aac4-5a5ec973025f",
   "metadata": {},
   "outputs": [
    {
     "name": "stdout",
     "output_type": "stream",
     "text": [
      "Rollno    float64\n",
      "Name       object\n",
      "Age        object\n",
      "dtype: object\n",
      "\n",
      "    Rollno   Name   Age\n",
      "0    20.0    NaN  20.0\n",
      "1    18.0   ajay  20.0\n",
      "2    19.0  shiva   NaN\n"
     ]
    }
   ],
   "source": [
    "#in above o/p if you wish the age must be in obejct data type but it is in float64 \n",
    "#To convert the datatype explicitly use astype()\n",
    "#Syntax data_frame.astype(dtype)\n",
    "data[\"Age\"]=data[\"Age\"].astype(\"object\")\n",
    "data[\"Rollno\"]=data[\"Rollno\"].astype(\"float64\")\n",
    "print(data.dtypes)\n",
    "print(\"\\n\",data)"
   ]
  },
  {
   "cell_type": "code",
   "execution_count": 72,
   "id": "d0ea072a-b392-4ab3-807b-2e0b788ad9a9",
   "metadata": {},
   "outputs": [
    {
     "name": "stdout",
     "output_type": "stream",
     "text": [
      "Name  : 24\n",
      "Rollno: 24\n",
      "Age   : 24\n"
     ]
    }
   ],
   "source": [
    "#nbytes() is used to bytes occupied by the column\n",
    "#Syntax: ndarray.nbytes\n",
    "print(\"Name  :\",data[\"Name\"].nbytes)\n",
    "print(\"Rollno:\",data[\"Rollno\"].nbytes)\n",
    "print(\"Age   :\",data[\"Age\"].nbytes)"
   ]
  },
  {
   "cell_type": "code",
   "execution_count": 91,
   "id": "2641ea28-2048-4020-810f-977c9e81ec9f",
   "metadata": {},
   "outputs": [
    {
     "name": "stdout",
     "output_type": "stream",
     "text": [
      "   Rollno   Name Age\n",
      "0      20    NaN  20\n",
      "1      18   ajay  20\n",
      "2      19  shiva  ## \n",
      "\n",
      "0    20\n",
      "1    20\n",
      "2    ##\n",
      "Name: Age, dtype: object \n",
      "\n",
      "0    20\n",
      "1    20\n",
      "2    20\n",
      "Name: Age, dtype: object\n"
     ]
    }
   ],
   "source": [
    "#replace() used to replace value with the desired value\n",
    "#Syntax data_frame.replace([to_replace,value,..])\n",
    "data=pd.read_csv(\"sampleCsvFile.csv\")\n",
    "print(data,\"\\n\")\n",
    "print(data[\"Age\"],\"\\n\")\n",
    "data[\"Age\"]=data[\"Age\"].replace(\"##\",20)\n",
    "print(data[\"Age\"])"
   ]
  },
  {
   "cell_type": "code",
   "execution_count": 83,
   "id": "e4a61c4d-b0b4-4759-98a4-2b9d383f7cd5",
   "metadata": {},
   "outputs": [
    {
     "name": "stdout",
     "output_type": "stream",
     "text": [
      "   Rollno   Name    Age\n",
      "0   False   True  False\n",
      "1   False  False  False\n",
      "2   False  False  False\n"
     ]
    }
   ],
   "source": [
    "print(data.isnull())"
   ]
  },
  {
   "cell_type": "code",
   "execution_count": 84,
   "id": "70f78c17-6811-4da0-bbb8-f2fdeba6a5df",
   "metadata": {},
   "outputs": [
    {
     "name": "stdout",
     "output_type": "stream",
     "text": [
      "Rollno    0\n",
      "Name      1\n",
      "Age       0\n",
      "dtype: int64\n"
     ]
    }
   ],
   "source": [
    "print(data.isnull().sum())"
   ]
  },
  {
   "cell_type": "code",
   "execution_count": 92,
   "id": "6a93ac9c-f5d7-40fa-af10-26238df9877d",
   "metadata": {},
   "outputs": [
    {
     "name": "stdout",
     "output_type": "stream",
     "text": [
      "   Rollno   Name Gender   Age\n",
      "0      18   Ajay   Male  20.0\n",
      "1      19  Shiva   Male   NaN\n",
      "2      20    Ram   Male  20.0\n"
     ]
    }
   ],
   "source": [
    "import os\n",
    "import pandas as pd\n",
    "os.chdir(\"D:\\\\program\\\\PYTHON\\\\CSV\")\n",
    "x=pd.read_csv(\"csv1.csv\")\n",
    "print(x)"
   ]
  },
  {
   "cell_type": "code",
   "execution_count": 94,
   "id": "084699f2-5d27-4cfb-a528-58e9a1ee170d",
   "metadata": {},
   "outputs": [
    {
     "name": "stdout",
     "output_type": "stream",
     "text": [
      "Age\n",
      "20.0    2\n",
      "Name: count, dtype: int64 \n",
      "\n",
      "Name\n",
      "Ajay     1\n",
      "Shiva    1\n",
      "Ram      1\n",
      "Name: count, dtype: int64\n"
     ]
    }
   ],
   "source": [
    "# series.value_counts() returns no.of occurences\n",
    "print(x[\"Age\"].value_counts(),\"\\n\")\n",
    "print(x[\"Name\"].value_counts())"
   ]
  },
  {
   "cell_type": "code",
   "execution_count": 102,
   "id": "f48a6305-e4ce-416d-9f13-677163cf8e6d",
   "metadata": {},
   "outputs": [
    {
     "name": "stdout",
     "output_type": "stream",
     "text": [
      "   Rollno   Name Gender  Months   Age\n",
      "0      18   Ajay   Male       0  20.0\n",
      "1      19  Shiva   Male       0   NaN\n",
      "2      20    Ram   Male       0  20.0\n"
     ]
    }
   ],
   "source": [
    "x.insert(3,\"Months\",0)\n",
    "print(x)"
   ]
  },
  {
   "cell_type": "code",
   "execution_count": null,
   "id": "2de8dcc9-facd-4c60-b261-7e10ddee9fc0",
   "metadata": {},
   "outputs": [],
   "source": []
  }
 ],
 "metadata": {
  "kernelspec": {
   "display_name": "Python 3 (ipykernel)",
   "language": "python",
   "name": "python3"
  },
  "language_info": {
   "codemirror_mode": {
    "name": "ipython",
    "version": 3
   },
   "file_extension": ".py",
   "mimetype": "text/x-python",
   "name": "python",
   "nbconvert_exporter": "python",
   "pygments_lexer": "ipython3",
   "version": "3.12.2"
  }
 },
 "nbformat": 4,
 "nbformat_minor": 5
}
